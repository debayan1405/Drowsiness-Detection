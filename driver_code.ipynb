{
 "cells": [
  {
   "attachments": {},
   "cell_type": "markdown",
   "metadata": {},
   "source": [
    "# Interfacing the CNN Model with the Webcam:"
   ]
  },
  {
   "attachments": {},
   "cell_type": "markdown",
   "metadata": {},
   "source": [
    "Installing all the Dependencies:"
   ]
  },
  {
   "cell_type": "code",
   "execution_count": null,
   "metadata": {},
   "outputs": [],
   "source": [
    "! pip install tensorflow\n",
    "! pip install opencv-python"
   ]
  },
  {
   "attachments": {},
   "cell_type": "markdown",
   "metadata": {},
   "source": [
    "In this section we will be interfacing the CNN model, that was previously trained with the webcam of our computer"
   ]
  },
  {
   "cell_type": "code",
   "execution_count": 1,
   "metadata": {},
   "outputs": [],
   "source": [
    "# Importing the dependencies\n",
    "\n",
    "import numpy as np\n",
    "import cv2 as cv\n",
    "import tensorflow as tf\n",
    "import tensorflow.keras as keras"
   ]
  },
  {
   "attachments": {},
   "cell_type": "markdown",
   "metadata": {},
   "source": [
    "* At first, we will be writing a function to load and return a version of the CNN model\n",
    "* The function signature will be: `def load_model(model_path)`"
   ]
  },
  {
   "cell_type": "code",
   "execution_count": 2,
   "metadata": {},
   "outputs": [],
   "source": [
    "def load_model(model_path):\n",
    "    model = keras.models.load_model(model_path)\n",
    "    return model"
   ]
  },
  {
   "attachments": {},
   "cell_type": "markdown",
   "metadata": {},
   "source": [
    "* Now we will be writing a function, that will take a grayscale image of shape (50,50,1), feed it into the CNN model and return the prediction tuple\n",
    "* The function signature will be of the format `def model_predict(model,image)` and will return a tuple of the format `(non_drowsy_percent,drowsy_percent)`"
   ]
  },
  {
   "cell_type": "code",
   "execution_count": 3,
   "metadata": {},
   "outputs": [],
   "source": [
    "def model_predict(model,image):\n",
    "    values = model.predict(tf.expand_dims(image, axis=0),verbose = 0)\n",
    "    non_drowsy,drowsy = values[0]\n",
    "    return (non_drowsy,drowsy)"
   ]
  },
  {
   "attachments": {},
   "cell_type": "markdown",
   "metadata": {},
   "source": [
    "* Loading the Frontal Face Cascade Model which is used to detect human faces and is maintained by OpenCV\n",
    "* This model returns the coordinates of the human face, which we will use accordingly:"
   ]
  },
  {
   "cell_type": "code",
   "execution_count": 4,
   "metadata": {},
   "outputs": [],
   "source": [
    "face_detector = cv.CascadeClassifier('haarcascade_frontalface_default.xml')"
   ]
  },
  {
   "attachments": {},
   "cell_type": "markdown",
   "metadata": {},
   "source": [
    "* Now we will be writing a function, that will preprocess the frame that is read from the webcam in order to make it fit for our CNN model:"
   ]
  },
  {
   "cell_type": "code",
   "execution_count": 5,
   "metadata": {},
   "outputs": [],
   "source": [
    "def frame_preprocess(frame):\n",
    "\n",
    "    # Converting the frame to Grayscale:\n",
    "    frame = cv.cvtColor(frame, cv.COLOR_BGR2GRAY)\n",
    "\n",
    "    # Resizing the frame to 50x50 dimension:\n",
    "    frame = cv.resize(frame,(50,50))\n",
    "\n",
    "    # Normalzing the frame:\n",
    "    frame = cv.normalize(frame,None,alpha=0.0,beta=1.0,norm_type=cv.NORM_MINMAX,dtype=cv.CV_32F)\n",
    "\n",
    "    return frame"
   ]
  },
  {
   "attachments": {},
   "cell_type": "markdown",
   "metadata": {},
   "source": [
    "Code cell to get metadata about webcam video:"
   ]
  },
  {
   "cell_type": "code",
   "execution_count": 6,
   "metadata": {},
   "outputs": [
    {
     "name": "stdout",
     "output_type": "stream",
     "text": [
      "Original FPS =  30.0\n",
      "Total Frames =  -1.0\n",
      "(480, 640, 3)\n"
     ]
    }
   ],
   "source": [
    "webcam_video = cv.VideoCapture(0)\n",
    "original_fps = webcam_video.get(cv.CAP_PROP_FPS)\n",
    "print(\"Original FPS = \",original_fps)\n",
    "\n",
    "# Displaying the total frame count:\n",
    "total_frame = webcam_video.get(cv.CAP_PROP_FRAME_COUNT)\n",
    "print(\"Total Frames = \",total_frame)\n",
    "\n",
    "for i in range(1):\n",
    "    flag, frame = webcam_video.read()\n",
    "    print(frame.shape)\n",
    "\n",
    "webcam_video.release()"
   ]
  },
  {
   "attachments": {},
   "cell_type": "markdown",
   "metadata": {},
   "source": [
    "* On my machine, the webcam video is read at a rate of 30 FPS\n",
    "* Now we will be writing the driver function of our application:"
   ]
  },
  {
   "cell_type": "code",
   "execution_count": 30,
   "metadata": {},
   "outputs": [],
   "source": [
    "def webcam_driver():\n",
    "\n",
    "    # Loading the model and storing it in a variable:\n",
    "    model = load_model(r\"model\")\n",
    "\n",
    "    # Now, let us access the webcam of our computer:\n",
    "    # webcam_video = cv.VideoCapture(r\"C:\\Users\\DEBAYAN\\Downloads\\test_video.mp4\")\n",
    "    webcam_video = cv.VideoCapture(0)\n",
    "\n",
    "    # Now we will be performing 4 major operations: Reading the frames, processing it at 1 FPS, displaying the output at 25 FPS and imprinting the metrics in the images itself:\n",
    "\n",
    "    # Frame counter:\n",
    "    i = 0\n",
    "\n",
    "    while(True):\n",
    "\n",
    "        # Reading the frame:\n",
    "        flag, frame = webcam_video.read()\n",
    "\n",
    "        if(i==0 or i%60==0):\n",
    "\n",
    "            # Predictions list:\n",
    "            predictions = [0,0]\n",
    "        \n",
    "            # Variable to store the text to be displayed on the screen:\n",
    "            metrics_text = f\"Face Not Aligned With Camera\"\n",
    "            \n",
    "            # Detecting the Face using the Haar Frontal Face Detection Model:\n",
    "            face_coordinates = face_detector.detectMultiScale(frame, scaleFactor=1.1, minNeighbors=9,minSize=(45,45))\n",
    "\n",
    "            # Slicing the original image array to just extract the face using the coordinates that was returned by the detectMultiScale method:\n",
    "            face_image = []\n",
    "\n",
    "            if len(face_coordinates)>0:\n",
    "                x,y,w,h = face_coordinates[0]\n",
    "                face_image = frame[y:y+h+10,x:x+w]\n",
    "            else:\n",
    "                face_image =[]\n",
    "\n",
    "            face_image = np.asarray(face_image)\n",
    "\n",
    "            # Preprocessing the frame to feed it to the neural network:\n",
    "            if(np.size(face_image)):\n",
    "                CNN_frame = frame_preprocess(face_image)\n",
    "\n",
    "                # Sending the processed frame to the model_predict function for predictions:\n",
    "                predictions = list(model_predict(model,CNN_frame))\n",
    "\n",
    "                # Rounding off the prediction values:\n",
    "                predictions[0] = round(predictions[0]*100,4)\n",
    "                predictions[1] = round(predictions[1]*100,4)\n",
    "\n",
    "                # Making changes to the output text:\n",
    "                metrics_text = f\"Drowsy: {predictions[1]}% Non-Drowsy: {predictions[0]}%\"\n",
    "\n",
    "        # Writing the metrics onto image:\n",
    "        frame = cv.putText(frame, metrics_text, (280, 50), cv.FONT_HERSHEY_SIMPLEX, 0.50, (0,0,255), 2)\n",
    "        \n",
    "        # Also for visual understanding, constructing a rectangle around the face:\n",
    "        if (len(face_coordinates)>0):\n",
    "            for (x, y, w, h) in face_coordinates:\n",
    "                cv.rectangle(frame, (x, y), (x+w, y+h+10), (0, 0, 255), 1)\n",
    "\n",
    "        # Displaying the frame:\n",
    "        cv.imshow('Drowsiness Detection', frame)\n",
    "\n",
    "        # This condition will stop the application when \"q\" is pressed:\n",
    "        if cv.waitKey(20) & 0xFF == ord('q'):\n",
    "            break\n",
    "\n",
    "        # Increasing the frame counter:        \n",
    "        i+=1\n",
    "\n",
    "        # Refreshing the frame variable to avoid memory overflow:\n",
    "        if(i==30000):\n",
    "            i=0\n",
    "\n",
    "    # Releasing the video capture object:\n",
    "    webcam_video.release()\n",
    "\n",
    "    # Destroying all created windows:\n",
    "    cv.destroyAllWindows()\n"
   ]
  },
  {
   "attachments": {},
   "cell_type": "markdown",
   "metadata": {},
   "source": [
    "Driver Code:"
   ]
  },
  {
   "cell_type": "code",
   "execution_count": 32,
   "metadata": {},
   "outputs": [],
   "source": [
    "webcam_driver()"
   ]
  }
 ],
 "metadata": {
  "kernelspec": {
   "display_name": "Python 3",
   "language": "python",
   "name": "python3"
  },
  "language_info": {
   "codemirror_mode": {
    "name": "ipython",
    "version": 3
   },
   "file_extension": ".py",
   "mimetype": "text/x-python",
   "name": "python",
   "nbconvert_exporter": "python",
   "pygments_lexer": "ipython3",
   "version": "3.11.3"
  },
  "orig_nbformat": 4
 },
 "nbformat": 4,
 "nbformat_minor": 2
}
