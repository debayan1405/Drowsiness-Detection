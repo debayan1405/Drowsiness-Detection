{
  "cells": [
    {
      "attachments": {},
      "cell_type": "markdown",
      "metadata": {},
      "source": [
        "# CNN Model Creation Version 1:"
      ]
    },
    {
      "cell_type": "code",
      "execution_count": 1,
      "metadata": {
        "colab": {
          "base_uri": "https://localhost:8080/"
        },
        "id": "Ur5dwWtvLnQ1",
        "outputId": "0a9a0446-0189-40ce-c986-ae8b495b1ab4"
      },
      "outputs": [
        {
          "name": "stdout",
          "output_type": "stream",
          "text": [
            "Mounted at /content/drive\n"
          ]
        }
      ],
      "source": [
        "from google.colab import drive\n",
        "drive.mount('/content/drive')"
      ]
    },
    {
      "cell_type": "code",
      "execution_count": 2,
      "metadata": {
        "execution": {
          "iopub.execute_input": "2023-05-12T17:20:10.100712Z",
          "iopub.status.busy": "2023-05-12T17:20:10.099868Z",
          "iopub.status.idle": "2023-05-12T17:20:17.062590Z",
          "shell.execute_reply": "2023-05-12T17:20:17.061614Z",
          "shell.execute_reply.started": "2023-05-12T17:20:10.100673Z"
        },
        "id": "njWQ8MOaLeZ3",
        "trusted": true
      },
      "outputs": [],
      "source": [
        "# Loading all the dependencies\n",
        "import numpy as np\n",
        "import matplotlib.pyplot as plt\n",
        "import cv2 as cv\n",
        "import os\n",
        "import random\n",
        "import pickle\n",
        "import tensorflow as tf\n",
        "import tensorflow.keras as keras"
      ]
    },
    {
      "cell_type": "code",
      "execution_count": 3,
      "metadata": {
        "execution": {
          "iopub.execute_input": "2023-05-12T17:20:19.258338Z",
          "iopub.status.busy": "2023-05-12T17:20:19.257643Z",
          "iopub.status.idle": "2023-05-12T17:21:44.106446Z",
          "shell.execute_reply": "2023-05-12T17:21:44.105492Z",
          "shell.execute_reply.started": "2023-05-12T17:20:19.258302Z"
        },
        "id": "pOfHUsjvLeZ6",
        "trusted": true
      },
      "outputs": [],
      "source": [
        "# Unpickling the datasets\n",
        "with open('/content/drive/MyDrive/Projects/Machine Learning Projects/Drowsiness Detection Project/Pickle_Files/img_pck.pickle','rb') as images:\n",
        "    img_arr=pickle.load(images)\n",
        "\n",
        "with open('/content/drive/MyDrive/Projects/Machine Learning Projects/Drowsiness Detection Project/Pickle_Files/lbl_pck.pickle','rb') as labels:\n",
        "    lbl_arr=pickle.load(labels)"
      ]
    },
    {
      "cell_type": "code",
      "execution_count": 4,
      "metadata": {
        "colab": {
          "base_uri": "https://localhost:8080/"
        },
        "execution": {
          "iopub.execute_input": "2023-05-12T17:22:28.775230Z",
          "iopub.status.busy": "2023-05-12T17:22:28.774856Z",
          "iopub.status.idle": "2023-05-12T17:22:28.783042Z",
          "shell.execute_reply": "2023-05-12T17:22:28.781944Z",
          "shell.execute_reply.started": "2023-05-12T17:22:28.775201Z"
        },
        "id": "yb-D3kwmLeZ6",
        "outputId": "dfd189c6-d195-4c0b-f6c1-25a485dfc75b",
        "trusted": true
      },
      "outputs": [
        {
          "name": "stdout",
          "output_type": "stream",
          "text": [
            "Number of Images =  364305\n",
            "Shape of the Image Array =  (364305, 50, 50, 1)\n"
          ]
        }
      ],
      "source": [
        "# Printing out the image array size and shape:\n",
        "print(\"Number of Images = \",len(img_arr))\n",
        "print(\"Shape of the Image Array = \",img_arr.shape)"
      ]
    },
    {
      "cell_type": "code",
      "execution_count": 5,
      "metadata": {
        "colab": {
          "base_uri": "https://localhost:8080/"
        },
        "id": "JudJTUd_M1zF",
        "outputId": "46689527-e2c6-460f-f3cc-0f7c17bd202b"
      },
      "outputs": [
        {
          "name": "stdout",
          "output_type": "stream",
          "text": [
            "Number of Labels =  364305\n",
            "Shape of the Label Array =  (364305,)\n"
          ]
        }
      ],
      "source": [
        "# Printing out the label array size and shape:\n",
        "print(\"Number of Labels = \",len(lbl_arr))\n",
        "print(\"Shape of the Label Array = \",lbl_arr.shape)"
      ]
    },
    {
      "cell_type": "code",
      "execution_count": 6,
      "metadata": {
        "id": "vS2CVbcDNE1t"
      },
      "outputs": [],
      "source": [
        "# Reshaping the label array:\n",
        "lbl_arr = lbl_arr.reshape(364305,1)"
      ]
    },
    {
      "cell_type": "code",
      "execution_count": 7,
      "metadata": {
        "colab": {
          "base_uri": "https://localhost:8080/"
        },
        "id": "kigpsbCnNcZX",
        "outputId": "cabb6be3-478f-4ae9-8d5c-ff801d2046ce"
      },
      "outputs": [
        {
          "name": "stdout",
          "output_type": "stream",
          "text": [
            "Shape of the Label Array =  (364305, 1)\n"
          ]
        }
      ],
      "source": [
        "# Checking the reshaped array:\n",
        "print(\"Shape of the Label Array = \",lbl_arr.shape)"
      ]
    },
    {
      "cell_type": "code",
      "execution_count": 9,
      "metadata": {
        "execution": {
          "iopub.execute_input": "2023-05-12T17:22:38.650706Z",
          "iopub.status.busy": "2023-05-12T17:22:38.650359Z",
          "iopub.status.idle": "2023-05-12T17:22:38.659842Z",
          "shell.execute_reply": "2023-05-12T17:22:38.658940Z",
          "shell.execute_reply.started": "2023-05-12T17:22:38.650678Z"
        },
        "id": "3ddNaye3LeZ7",
        "trusted": true
      },
      "outputs": [],
      "source": [
        "# Loading all the NN related dependencies:\n",
        "\n",
        "from keras.callbacks import ModelCheckpoint\n",
        "from keras.callbacks import CSVLogger\n",
        "from keras.models import Sequential\n",
        "from keras.layers import Dense\n",
        "from keras.layers import Activation\n",
        "from keras.layers import Dropout\n",
        "from keras.layers import BatchNormalization\n",
        "from keras.layers import Flatten\n",
        "from keras.layers.convolutional import Conv2D\n",
        "from keras.layers.convolutional import MaxPooling2D\n",
        "from keras.utils import np_utils\n",
        "from keras.models import load_model"
      ]
    },
    {
      "cell_type": "code",
      "execution_count": 11,
      "metadata": {
        "execution": {
          "iopub.execute_input": "2023-05-12T17:24:06.060089Z",
          "iopub.status.busy": "2023-05-12T17:24:06.059502Z",
          "iopub.status.idle": "2023-05-12T17:24:09.026177Z",
          "shell.execute_reply": "2023-05-12T17:24:09.025072Z",
          "shell.execute_reply.started": "2023-05-12T17:24:06.060050Z"
        },
        "id": "Sl-vNE1zLeZ7",
        "trusted": true
      },
      "outputs": [],
      "source": [
        "cnn_model = Sequential(\n",
        "    [\n",
        "        # Convolutional Layer 1:\n",
        "        Conv2D(32, kernel_size=(3, 3), activation=\"relu\", input_shape=images.shape[1:]),\n",
        "        \n",
        "        # Spooling 1:\n",
        "        MaxPooling2D(pool_size=(1, 1)),\n",
        "        \n",
        "        # Convolutional Layer 2:\n",
        "        Conv2D(32, (3, 3), activation=\"relu\"),\n",
        "        \n",
        "        # Spooling 2:\n",
        "        MaxPooling2D(pool_size=(1, 1)),\n",
        "        \n",
        "        # Convolutional Layer 3:\n",
        "        Conv2D(64, (3, 3), activation=\"relu\"),\n",
        "        \n",
        "        # Spooling 3:\n",
        "        MaxPooling2D(pool_size=(1, 1)),\n",
        "        \n",
        "        # Convolutional Droput Layer with 25% Dropout Rate:\n",
        "        Dropout(0.25),\n",
        "        \n",
        "        # Flattening:\n",
        "        Flatten(),\n",
        "        \n",
        "        # Dense Layer:\n",
        "        Dense(128, activation=\"relu\"),\n",
        "        \n",
        "        # Dense Dropout Layer with 50% Dropout Rate:\n",
        "        Dropout(0.5),\n",
        "        \n",
        "        # Output layer with Softmax Output Function:\n",
        "        Dense(2, activation=\"softmax\"),\n",
        "    ]\n",
        ")\n",
        "\n",
        "# Compiling the model with Adam optimizer and using the Accuracy Metric:\n",
        "cnn_model.compile(\n",
        "    optimizer=\"adam\", loss=\"sparse_categorical_crossentropy\", metrics=[\"accuracy\"]\n",
        ")"
      ]
    },
    {
      "cell_type": "code",
      "execution_count": 12,
      "metadata": {
        "colab": {
          "base_uri": "https://localhost:8080/"
        },
        "execution": {
          "iopub.execute_input": "2023-05-12T17:24:15.625491Z",
          "iopub.status.busy": "2023-05-12T17:24:15.625128Z",
          "iopub.status.idle": "2023-05-12T17:24:15.659499Z",
          "shell.execute_reply": "2023-05-12T17:24:15.658819Z",
          "shell.execute_reply.started": "2023-05-12T17:24:15.625461Z"
        },
        "id": "rwUC54sNLeZ8",
        "outputId": "690e542c-882b-4dad-97f8-87446b865669",
        "trusted": true
      },
      "outputs": [
        {
          "name": "stdout",
          "output_type": "stream",
          "text": [
            "Model: \"sequential\"\n",
            "_________________________________________________________________\n",
            " Layer (type)                Output Shape              Param #   \n",
            "=================================================================\n",
            " conv2d (Conv2D)             (None, 48, 48, 32)        320       \n",
            "                                                                 \n",
            " max_pooling2d (MaxPooling2D  (None, 48, 48, 32)       0         \n",
            " )                                                               \n",
            "                                                                 \n",
            " conv2d_1 (Conv2D)           (None, 46, 46, 32)        9248      \n",
            "                                                                 \n",
            " max_pooling2d_1 (MaxPooling  (None, 46, 46, 32)       0         \n",
            " 2D)                                                             \n",
            "                                                                 \n",
            " conv2d_2 (Conv2D)           (None, 44, 44, 64)        18496     \n",
            "                                                                 \n",
            " max_pooling2d_2 (MaxPooling  (None, 44, 44, 64)       0         \n",
            " 2D)                                                             \n",
            "                                                                 \n",
            " dropout (Dropout)           (None, 44, 44, 64)        0         \n",
            "                                                                 \n",
            " flatten (Flatten)           (None, 123904)            0         \n",
            "                                                                 \n",
            " dense (Dense)               (None, 128)               15859840  \n",
            "                                                                 \n",
            " dropout_1 (Dropout)         (None, 128)               0         \n",
            "                                                                 \n",
            " dense_1 (Dense)             (None, 2)                 258       \n",
            "                                                                 \n",
            "=================================================================\n",
            "Total params: 15,888,162\n",
            "Trainable params: 15,888,162\n",
            "Non-trainable params: 0\n",
            "_________________________________________________________________\n"
          ]
        }
      ],
      "source": [
        "# Displaying the model architecture:\n",
        "cnn_model.summary()"
      ]
    },
    {
      "cell_type": "code",
      "execution_count": 13,
      "metadata": {
        "colab": {
          "base_uri": "https://localhost:8080/"
        },
        "execution": {
          "iopub.execute_input": "2023-05-12T17:24:22.643991Z",
          "iopub.status.busy": "2023-05-12T17:24:22.643257Z",
          "iopub.status.idle": "2023-05-12T17:24:22.652575Z",
          "shell.execute_reply": "2023-05-12T17:24:22.651391Z",
          "shell.execute_reply.started": "2023-05-12T17:24:22.643952Z"
        },
        "id": "2NSLs6PdLeZ8",
        "outputId": "acd41965-affd-495b-a3ef-b04c97cdfa94",
        "trusted": true
      },
      "outputs": [
        {
          "name": "stdout",
          "output_type": "stream",
          "text": [
            "Num GPUs Available:  1\n"
          ]
        },
        {
          "data": {
            "text/plain": [
              "[PhysicalDevice(name='/physical_device:CPU:0', device_type='CPU'),\n",
              " PhysicalDevice(name='/physical_device:GPU:0', device_type='GPU')]"
            ]
          },
          "execution_count": 13,
          "metadata": {},
          "output_type": "execute_result"
        }
      ],
      "source": [
        "# Checking if GPUs are available in the training environment. We will be looking at training on a single GPU as training on multiple GPUs require Distribution Strategies:\n",
        "print(\"Num GPUs Available: \", len(tf.config.list_physical_devices('GPU')))\n",
        "\n",
        "tf.config.list_physical_devices(device_type=None)"
      ]
    },
    {
      "attachments": {},
      "cell_type": "markdown",
      "metadata": {
        "id": "mb3yV_kKLeZ8"
      },
      "source": [
        "* We can use a trained model without having to retrain it, or pick-up training where we left off in case the training process was interrupted\n",
        "* The `tf.keras.callbacks.ModelCheckpoint` callback will allow us to continually save the model both during and at the end of training"
      ]
    },
    {
      "cell_type": "code",
      "execution_count": 15,
      "metadata": {
        "execution": {
          "iopub.execute_input": "2023-05-12T17:24:25.592979Z",
          "iopub.status.busy": "2023-05-12T17:24:25.592621Z",
          "iopub.status.idle": "2023-05-12T17:24:25.597520Z",
          "shell.execute_reply": "2023-05-12T17:24:25.596508Z",
          "shell.execute_reply.started": "2023-05-12T17:24:25.592951Z"
        },
        "id": "6zoxMNmfLeZ9",
        "trusted": true
      },
      "outputs": [],
      "source": [
        "# Creating the checkpoint directory:\n",
        "checkpoint_path = \"/kaggle/working/cp.ckpt\"\n",
        "checkpoint_dir = os.path.dirname(checkpoint_path)"
      ]
    },
    {
      "cell_type": "code",
      "execution_count": 16,
      "metadata": {
        "execution": {
          "iopub.execute_input": "2023-05-12T17:24:29.002527Z",
          "iopub.status.busy": "2023-05-12T17:24:29.001950Z",
          "iopub.status.idle": "2023-05-12T17:24:29.006771Z",
          "shell.execute_reply": "2023-05-12T17:24:29.005927Z",
          "shell.execute_reply.started": "2023-05-12T17:24:29.002493Z"
        },
        "id": "YpHKoAm9LeZ-",
        "trusted": true
      },
      "outputs": [],
      "source": [
        "# Create a callback that saves the model's weights\n",
        "cp_callback = tf.keras.callbacks.ModelCheckpoint(filepath=checkpoint_path, save_weights_only=True, verbose=1)"
      ]
    },
    {
      "cell_type": "code",
      "execution_count": null,
      "metadata": {
        "colab": {
          "base_uri": "https://localhost:8080/"
        },
        "execution": {
          "iopub.execute_input": "2023-05-12T17:24:33.564889Z",
          "iopub.status.busy": "2023-05-12T17:24:33.563968Z",
          "iopub.status.idle": "2023-05-12T17:24:41.105064Z",
          "shell.execute_reply": "2023-05-12T17:24:41.102975Z",
          "shell.execute_reply.started": "2023-05-12T17:24:33.564853Z"
        },
        "id": "0KDBW_N4LeZ-",
        "outputId": "59c4e7ff-5c7b-47e1-d835-9ccde133ac45",
        "trusted": true
      },
      "outputs": [
        {
          "name": "stdout",
          "output_type": "stream",
          "text": [
            "Epoch 1/50\n",
            "5000/5000 [==============================] - ETA: 0s - loss: 0.4442 - accuracy: 0.8187"
          ]
        }
      ],
      "source": [
        "# Training the model:\n",
        "with tf.device('/GPU:0'):\n",
        "    cnn_model.fit(images, labels, batch_size=32, epochs=20, validation_split=0.02)"
      ]
    },
    {
      "cell_type": "code",
      "execution_count": null,
      "metadata": {
        "id": "Q9z8lggdLeZ_",
        "trusted": true
      },
      "outputs": [],
      "source": [
        "# Saving the trained model:\n",
        "model.save(\"/kaggle/working/ddd_CNN_model_v1\")"
      ]
    },
    {
      "cell_type": "code",
      "execution_count": null,
      "metadata": {
        "id": "nfERfce7LeZ_",
        "trusted": true
      },
      "outputs": [],
      "source": [
        "# To load the model back, execute this cell:\n",
        "model = models.load_model(\"/kaggle/working/ddd_CNN_model\")"
      ]
    }
  ],
  "metadata": {
    "accelerator": "GPU",
    "colab": {
      "gpuType": "T4",
      "provenance": []
    },
    "gpuClass": "standard",
    "kernelspec": {
      "display_name": "Python 3",
      "language": "python",
      "name": "python3"
    },
    "language_info": {
      "codemirror_mode": {
        "name": "ipython",
        "version": 3
      },
      "file_extension": ".py",
      "mimetype": "text/x-python",
      "name": "python",
      "nbconvert_exporter": "python",
      "pygments_lexer": "ipython3",
      "version": "3.10.10"
    }
  },
  "nbformat": 4,
  "nbformat_minor": 0
}
